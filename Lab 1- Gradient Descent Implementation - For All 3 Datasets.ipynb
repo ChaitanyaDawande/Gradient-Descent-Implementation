{
 "cells": [
  {
   "cell_type": "code",
   "execution_count": 95,
   "metadata": {},
   "outputs": [],
   "source": [
    "import pandas as pd\n",
    "import numpy as np\n",
    "import random"
   ]
  },
  {
   "cell_type": "code",
   "execution_count": 96,
   "metadata": {},
   "outputs": [],
   "source": [
    "def train_test_split(data):\n",
    "    X=data.iloc[:,:-1]\n",
    "    Y=data.iloc[:,-1]\n",
    "    random.seed(30)\n",
    "    index=random.sample(range(data.shape[0]), int(0.6*data.shape[0]))\n",
    "    features_train=X.iloc[index].to_numpy()\n",
    "    y=Y.iloc[index]\n",
    "    features_test= X[~X.index.isin(index)].to_numpy()\n",
    "    y_test= Y[~Y.index.isin(index)]\n",
    "    return features_train, y, features_test, y_test\n",
    "    "
   ]
  },
  {
   "cell_type": "code",
   "execution_count": 97,
   "metadata": {},
   "outputs": [],
   "source": [
    "def record_parameters(features):\n",
    "    mean_train = features.mean(axis=0)\n",
    "    std_train = features.std(axis=0)\n",
    "    return mean_train, std_train"
   ]
  },
  {
   "cell_type": "code",
   "execution_count": 98,
   "metadata": {},
   "outputs": [],
   "source": [
    "# Function to Normalize Data Set\n",
    "def normalize(A):\n",
    "    mean_diff = A - A.mean(axis=0)\n",
    "    normal = mean_diff / A.std(axis=0)\n",
    "    return normal"
   ]
  },
  {
   "cell_type": "code",
   "execution_count": 99,
   "metadata": {},
   "outputs": [],
   "source": [
    "def gradient_descent(learning,tolerance):\n",
    "    #Intialize RMSE, Delta RMSE and i counter.\n",
    "    RMSE = 1e10\n",
    "    i=0\n",
    "    delta_RMSE = 10\n",
    "    weights = np.zeros(features_array.shape[1])\n",
    "\n",
    "    # The number of Iterations are determined by the Tolerance of the delta RMSE\n",
    "    while(delta_RMSE > tolerance and i<=50000) :\n",
    "        prev_RMSE = RMSE\n",
    "        y_predicted = np.dot(features_array,weights)\n",
    "        risk = np.square(y-y_predicted).mean()\n",
    "        error = y - y_predicted\n",
    "        gradient = -2*np.dot(features_array.T,error)/len(y)\n",
    "        step_size = learning * gradient\n",
    "        weights -= step_size\n",
    "        RMSE = np.sqrt(np.square(np.subtract(y,y_predicted)).mean())\n",
    "        delta_RMSE = np.abs(RMSE - prev_RMSE)\n",
    "        i+=1\n",
    "    return weights,RMSE,i"
   ]
  },
  {
   "cell_type": "markdown",
   "metadata": {},
   "source": [
    "# Gradient Descent Algorithm Implementation For Housing Dataset"
   ]
  },
  {
   "cell_type": "code",
   "execution_count": 100,
   "metadata": {},
   "outputs": [],
   "source": [
    "housing = pd.read_csv('housing.csv', header= None)"
   ]
  },
  {
   "cell_type": "code",
   "execution_count": 101,
   "metadata": {},
   "outputs": [],
   "source": [
    "features, y, features_test, y_test= train_test_split(housing)"
   ]
  },
  {
   "cell_type": "code",
   "execution_count": 102,
   "metadata": {},
   "outputs": [],
   "source": [
    "mean_train, std_train=record_parameters(features)"
   ]
  },
  {
   "cell_type": "code",
   "execution_count": 103,
   "metadata": {},
   "outputs": [],
   "source": [
    "# Normalize the Train Set using Z score\n",
    "normalized_array = normalize(features)\n",
    "\n",
    "#Adding a column with 1s to capture the regression intercept\n",
    "features_array  = np.c_[np.ones(normalized_array.shape[0]),normalized_array]"
   ]
  },
  {
   "cell_type": "code",
   "execution_count": 104,
   "metadata": {},
   "outputs": [
    {
     "name": "stdout",
     "output_type": "stream",
     "text": [
      " Weights and RMSE for learning parameter : 0.0004 and tolerance : 0.005 \n",
      " \n",
      " Weights: \n",
      " [15.38696046 -0.33665339  0.73576379 -0.68907852  0.61680243 -0.38791811\n",
      "  2.64335977 -0.31793603 -0.88157885  0.25631368 -0.34202632 -1.38973333\n",
      "  0.76588651 -2.31792383]\n",
      " RMSE for Train Set : 8.99674951560325\n",
      " Iterations :  1417\n",
      "\n",
      " Weights and RMSE for learning parameter : .01 and tolerance : 0.01 \n",
      " \n",
      " Weights: \n",
      " [21.26078875 -0.23445029  0.85751182 -0.67033588  0.72794459 -0.61014313\n",
      "  3.20555583 -0.31566107 -1.81899927  0.8053266  -0.26038346 -1.6020829\n",
      "  1.02438945 -3.04561714]\n",
      " RMSE for Train Set : 5.151841207543486\n",
      " Iterations : 137\n",
      "\n",
      " Weights and RMSE for learning parameter : .007 and tolerance : 0.05 \n",
      " \n",
      " Weights: \n",
      " [17.94212492 -0.29371793  0.7728102  -0.6814153   0.68360959 -0.41706864\n",
      "  2.93768164 -0.29517369 -1.20690483  0.45468089 -0.28859546 -1.4978248\n",
      "  0.8537396  -2.61330759]\n",
      " RMSE for Train Set : 7.007735744963284\n",
      " Iterations : 111\n",
      "\n"
     ]
    }
   ],
   "source": [
    "weights_1,RMSE_1,iterations_1 = gradient_descent(.0004,0.005)\n",
    "print(f' Weights and RMSE for learning parameter : 0.0004 and tolerance : 0.005 \\n ')\n",
    "print(f' Weights: \\n {weights_1}')\n",
    "print(f' RMSE for Train Set : {RMSE_1}')\n",
    "print(f' Iterations :  {iterations_1}\\n')\n",
    "\n",
    "\n",
    "weights_2,RMSE_2,iterations_2 = gradient_descent(.01,0.01)\n",
    "print(f' Weights and RMSE for learning parameter : .01 and tolerance : 0.01 \\n ')\n",
    "print(f' Weights: \\n {weights_2}')\n",
    "print(f' RMSE for Train Set : {RMSE_2}')\n",
    "print(f' Iterations : {iterations_2}\\n')\n",
    "\n",
    "weights_3,RMSE_3,iterations_3 = gradient_descent(.007,0.05)\n",
    "print(f' Weights and RMSE for learning parameter : .007 and tolerance : 0.05 \\n ')\n",
    "print(f' Weights: \\n {weights_3}')\n",
    "print(f' RMSE for Train Set : {RMSE_3}')\n",
    "print(f' Iterations : {iterations_3}\\n')"
   ]
  },
  {
   "cell_type": "code",
   "execution_count": 105,
   "metadata": {},
   "outputs": [],
   "source": [
    "# Normalize the Test Set using Train Parameters\n",
    "normalized_test = (features_test - mean_train)/std_train\n",
    "predictors_test  = np.c_[np.ones(normalized_test.shape[0]),normalized_test]"
   ]
  },
  {
   "cell_type": "code",
   "execution_count": 106,
   "metadata": {},
   "outputs": [],
   "source": [
    "# Calculate Predicted y on Test Set for learning parameter : 0.0004 and tolerance : 0.005\n",
    "y_predicted_test_1 = np.dot(predictors_test,weights_1)\n",
    "# Calculate Predicted y on Test Set for learning parameter : .01 and tolerance : 0.01\n",
    "y_predicted_test_2 = np.dot(predictors_test,weights_2)\n",
    "# Calculate Predicted y on Test Set for learning parameter : .007 and tolerance : 0.05\n",
    "y_predicted_test_3 = np.dot(predictors_test,weights_3)"
   ]
  },
  {
   "cell_type": "code",
   "execution_count": 107,
   "metadata": {},
   "outputs": [
    {
     "name": "stdout",
     "output_type": "stream",
     "text": [
      " RMSE for Test Set for learning parameter : 0.0004 and tolerance : 0.005  : 8.45865218010999\n",
      " RMSE for Test Set for learning parameter : .01 and tolerance : 0.01  : 4.819845941903359\n",
      " RMSE for Test Set for learning parameter : .007 and tolerance : 0.05 : 6.427016634672382\n"
     ]
    }
   ],
   "source": [
    "#RMSE Calculation on Test data set for learning parameter : 0.0004 and tolerance : 0.005\n",
    "RMSE_Test_1 = np.sqrt(np.square(np.subtract(y_test,y_predicted_test_1)).mean())\n",
    "print(f' RMSE for Test Set for learning parameter : 0.0004 and tolerance : 0.005  : {RMSE_Test_1}')\n",
    "#RMSE Calculation on Test data set for learning parameter : .01 and tolerance : 0.01\n",
    "RMSE_Test_2 = np.sqrt(np.square(np.subtract(y_test,y_predicted_test_2)).mean())\n",
    "print(f' RMSE for Test Set for learning parameter : .01 and tolerance : 0.01  : {RMSE_Test_2}')\n",
    "#RMSE Calculation on Test data set for learning parameter : .007 and tolerance : 0.05\n",
    "RMSE_Test_3 = np.sqrt(np.square(np.subtract(y_test,y_predicted_test_3)).mean())\n",
    "print(f' RMSE for Test Set for learning parameter : .007 and tolerance : 0.05 : {RMSE_Test_3}')"
   ]
  },
  {
   "cell_type": "markdown",
   "metadata": {},
   "source": [
    "# Gradient Descent Algorithm Implementation For Yacht Dataset"
   ]
  },
  {
   "cell_type": "code",
   "execution_count": 108,
   "metadata": {},
   "outputs": [],
   "source": [
    "yachtdata=pd.read_csv('yachtData.csv', header=None)"
   ]
  },
  {
   "cell_type": "code",
   "execution_count": 109,
   "metadata": {},
   "outputs": [],
   "source": [
    "features, y, features_test, y_test= train_test_split(yachtdata)"
   ]
  },
  {
   "cell_type": "code",
   "execution_count": 110,
   "metadata": {},
   "outputs": [],
   "source": [
    "mean_train, std_train=record_parameters(features)\n",
    "\n",
    "# Normalize the Train Set using Z score\n",
    "normalized_array = normalize(features)\n",
    "\n",
    "#Adding a column with 1s to capture the regression intercept\n",
    "features_array  = np.c_[np.ones(normalized_array.shape[0]),normalized_array]"
   ]
  },
  {
   "cell_type": "code",
   "execution_count": 111,
   "metadata": {},
   "outputs": [
    {
     "name": "stdout",
     "output_type": "stream",
     "text": [
      " Weights and RMSE for learning parameter : 0.001 and tolerance : 0.001 \n",
      " \n",
      " Weights: \n",
      " [ 8.9573005  -0.27105221 -0.29970924  0.20034681  0.40431788 -0.13836657\n",
      "  9.9621455 ]\n",
      " RMSE for Train Set : 8.789325953698354\n",
      " Iterations :  1003\n",
      "\n",
      " Weights and RMSE for learning parameter : .01 and tolerance : 0.01 \n",
      " \n",
      " Weights: \n",
      " [ 9.00167179 -0.2725755  -0.29933302  0.20232345  0.4047322  -0.13611549\n",
      " 10.0113634 ]\n",
      " RMSE for Train Set : 8.782418351023008\n",
      " Iterations : 101\n",
      "\n",
      " Weights and RMSE for learning parameter : .007 and tolerance : 0.05 \n",
      " \n",
      " Weights: \n",
      " [ 6.37976473 -0.18357004 -0.32147915  0.10176859  0.37035785 -0.25755503\n",
      "  7.09741521]\n",
      " RMSE for Train Set : 10.447769306886263\n",
      " Iterations : 68\n",
      "\n"
     ]
    }
   ],
   "source": [
    "weights_1,RMSE_1,iterations_1 = gradient_descent(0.001,0.001)\n",
    "print(f' Weights and RMSE for learning parameter : 0.001 and tolerance : 0.001 \\n ')\n",
    "print(f' Weights: \\n {weights_1}')\n",
    "print(f' RMSE for Train Set : {RMSE_1}')\n",
    "print(f' Iterations :  {iterations_1}\\n')\n",
    "\n",
    "\n",
    "weights_2,RMSE_2,iterations_2 = gradient_descent(0.01,0.01)\n",
    "print(f' Weights and RMSE for learning parameter : .01 and tolerance : 0.01 \\n ')\n",
    "print(f' Weights: \\n {weights_2}')\n",
    "print(f' RMSE for Train Set : {RMSE_2}')\n",
    "print(f' Iterations : {iterations_2}\\n')\n",
    "\n",
    "weights_3,RMSE_3,iterations_3 = gradient_descent(.007,0.05)\n",
    "print(f' Weights and RMSE for learning parameter : .007 and tolerance : 0.05 \\n ')\n",
    "print(f' Weights: \\n {weights_3}')\n",
    "print(f' RMSE for Train Set : {RMSE_3}')\n",
    "print(f' Iterations : {iterations_3}\\n')"
   ]
  },
  {
   "cell_type": "code",
   "execution_count": 112,
   "metadata": {},
   "outputs": [],
   "source": [
    "# Normalize the Test Set using Train Parameters\n",
    "normalized_test = (features_test - mean_train)/std_train\n",
    "predictors_test  = np.c_[np.ones(normalized_test.shape[0]),normalized_test]"
   ]
  },
  {
   "cell_type": "code",
   "execution_count": 113,
   "metadata": {},
   "outputs": [],
   "source": [
    "# Calculate Predicted y on Test Set for learning parameter : 0.001 and tolerance : 0.001\n",
    "y_predicted_test_1 = np.dot(predictors_test,weights_1)\n",
    "# Calculate Predicted y on Test Set for learning parameter : .01 and tolerance : 0.01\n",
    "y_predicted_test_2 = np.dot(predictors_test,weights_2)\n",
    "# Calculate Predicted y on Test Set for learning parameter : .007 and tolerance : 0.05\n",
    "y_predicted_test_3 = np.dot(predictors_test,weights_3)"
   ]
  },
  {
   "cell_type": "code",
   "execution_count": 114,
   "metadata": {},
   "outputs": [
    {
     "name": "stdout",
     "output_type": "stream",
     "text": [
      " RMSE for Test Set for learning parameter : 0.001 and tolerance : 0.001  : 10.135363409826883\n",
      " RMSE for Test Set for learning parameter : .01 and tolerance : 0.01  : 10.109931023913854\n",
      " RMSE for Test Set for learning parameter : .007 and tolerance : 0.05 : 12.128293471415065\n"
     ]
    }
   ],
   "source": [
    "#RMSE Calculation on Test data set for learning parameter :  0.001 and tolerance : 0.001\n",
    "RMSE_Test_1 = np.sqrt(np.square(np.subtract(y_test,y_predicted_test_1)).mean())\n",
    "print(f' RMSE for Test Set for learning parameter : 0.001 and tolerance : 0.001  : {RMSE_Test_1}')\n",
    "#RMSE Calculation on Test data set for learning parameter : .01 and tolerance : 0.01\n",
    "RMSE_Test_2 = np.sqrt(np.square(np.subtract(y_test,y_predicted_test_2)).mean())\n",
    "print(f' RMSE for Test Set for learning parameter : .01 and tolerance : 0.01  : {RMSE_Test_2}')\n",
    "#RMSE Calculation on Test data set for learning parameter : .007 and tolerance : 0.05\n",
    "RMSE_Test_3 = np.sqrt(np.square(np.subtract(y_test,y_predicted_test_3)).mean())\n",
    "print(f' RMSE for Test Set for learning parameter : .007 and tolerance : 0.05 : {RMSE_Test_3}')"
   ]
  },
  {
   "cell_type": "markdown",
   "metadata": {},
   "source": [
    "#  Gradient Descent Algorithm Implementation For Concrete Dataset"
   ]
  },
  {
   "cell_type": "code",
   "execution_count": 115,
   "metadata": {},
   "outputs": [],
   "source": [
    "concrete= pd.read_csv(\"concreteData.csv\",header=None)"
   ]
  },
  {
   "cell_type": "code",
   "execution_count": 116,
   "metadata": {},
   "outputs": [],
   "source": [
    "features, y, features_test, y_test= train_test_split(concrete)"
   ]
  },
  {
   "cell_type": "code",
   "execution_count": 117,
   "metadata": {},
   "outputs": [],
   "source": [
    "mean_train, std_train=record_parameters(features)\n",
    "\n",
    "# Normalize the Train Set using Z score\n",
    "normalized_array = normalize(features)\n",
    "\n",
    "#Adding a column with 1s to capture the regression intercept\n",
    "features_array  = np.c_[np.ones(normalized_array.shape[0]),normalized_array]"
   ]
  },
  {
   "cell_type": "code",
   "execution_count": 118,
   "metadata": {},
   "outputs": [
    {
     "name": "stdout",
     "output_type": "stream",
     "text": [
      " Weights and RMSE for learning parameter : 0.0007 and tolerance : 0.0001 \n",
      " \n",
      " Weights: \n",
      " [36.04578933  7.62767057  3.85536523  0.31351888 -5.70227368  3.23673577\n",
      " -1.34713997 -3.03918176  6.24862466]\n",
      " RMSE for Train Set : 10.522278353653654\n",
      " Iterations :  3131\n",
      "\n",
      " Weights and RMSE for learning parameter : .01 and tolerance : 0.01 \n",
      " \n",
      " Weights: \n",
      " [34.54983917  7.11788105  3.27210339 -0.20702229 -5.12459927  3.75033705\n",
      " -1.38543555 -3.07015555  5.80159682]\n",
      " RMSE for Train Set : 10.809250233364638\n",
      " Iterations : 145\n",
      "\n",
      " Weights and RMSE for learning parameter : .007 and tolerance : 0.05 \n",
      " \n",
      " Weights: \n",
      " [30.40939968  6.33102122  2.58540911 -0.58767906 -4.27753288  3.85787543\n",
      " -1.40789209 -2.80816839  4.8915673 ]\n",
      " RMSE for Train Set : 12.509432606553968\n",
      " Iterations : 127\n",
      "\n"
     ]
    }
   ],
   "source": [
    "weights_1,RMSE_1,iterations_1 = gradient_descent(0.0007,0.0001)\n",
    "print(f' Weights and RMSE for learning parameter : 0.0007 and tolerance : 0.0001 \\n ')\n",
    "print(f' Weights: \\n {weights_1}')\n",
    "print(f' RMSE for Train Set : {RMSE_1}')\n",
    "print(f' Iterations :  {iterations_1}\\n')\n",
    "\n",
    "\n",
    "weights_2,RMSE_2,iterations_2 = gradient_descent(0.01,0.01)\n",
    "print(f' Weights and RMSE for learning parameter : .01 and tolerance : 0.01 \\n ')\n",
    "print(f' Weights: \\n {weights_2}')\n",
    "print(f' RMSE for Train Set : {RMSE_2}')\n",
    "print(f' Iterations : {iterations_2}\\n')\n",
    "\n",
    "weights_3,RMSE_3,iterations_3 = gradient_descent(.007,0.05)\n",
    "print(f' Weights and RMSE for learning parameter : .007 and tolerance : 0.05 \\n ')\n",
    "print(f' Weights: \\n {weights_3}')\n",
    "print(f' RMSE for Train Set : {RMSE_3}')\n",
    "print(f' Iterations : {iterations_3}\\n')"
   ]
  },
  {
   "cell_type": "code",
   "execution_count": 119,
   "metadata": {},
   "outputs": [],
   "source": [
    "# Normalize the Test Set using Train Parameters\n",
    "normalized_test = (features_test - mean_train)/std_train\n",
    "predictors_test  = np.c_[np.ones(normalized_test.shape[0]),normalized_test]"
   ]
  },
  {
   "cell_type": "code",
   "execution_count": 120,
   "metadata": {},
   "outputs": [],
   "source": [
    "# Calculate Predicted y on Test Set for learning parameter : 0.0007 and tolerance : 0.0001\n",
    "y_predicted_test_1 = np.dot(predictors_test,weights_1)\n",
    "# Calculate Predicted y on Test Set for learning parameter : .01 and tolerance : 0.01\n",
    "y_predicted_test_2 = np.dot(predictors_test,weights_2)\n",
    "# Calculate Predicted y on Test Set for learning parameter : .007 and tolerance : 0.05\n",
    "y_predicted_test_3 = np.dot(predictors_test,weights_3)"
   ]
  },
  {
   "cell_type": "code",
   "execution_count": 121,
   "metadata": {},
   "outputs": [
    {
     "name": "stdout",
     "output_type": "stream",
     "text": [
      " RMSE for Test Set for learning parameter : 0.001 and tolerance : 0.001  : 10.751717093319687\n",
      " RMSE for Test Set for learning parameter : .01 and tolerance : 0.01  : 10.851963485636311\n",
      " RMSE for Test Set for learning parameter : .007 and tolerance : 0.05 : 12.09249350491293\n"
     ]
    }
   ],
   "source": [
    "#RMSE Calculation on Test data set for learning parameter : 0.0007 and tolerance : 0.0001\n",
    "RMSE_Test_1 = np.sqrt(np.square(np.subtract(y_test,y_predicted_test_1)).mean())\n",
    "print(f' RMSE for Test Set for learning parameter : 0.001 and tolerance : 0.001  : {RMSE_Test_1}')\n",
    "#RMSE Calculation on Test data set for learning parameter : .01 and tolerance : 0.01\n",
    "RMSE_Test_2 = np.sqrt(np.square(np.subtract(y_test,y_predicted_test_2)).mean())\n",
    "print(f' RMSE for Test Set for learning parameter : .01 and tolerance : 0.01  : {RMSE_Test_2}')\n",
    "#RMSE Calculation on Test data set for learning parameter : .007 and tolerance : 0.05\n",
    "RMSE_Test_3 = np.sqrt(np.square(np.subtract(y_test,y_predicted_test_3)).mean())\n",
    "print(f' RMSE for Test Set for learning parameter : .007 and tolerance : 0.05 : {RMSE_Test_3}')"
   ]
  },
  {
   "cell_type": "code",
   "execution_count": null,
   "metadata": {},
   "outputs": [],
   "source": []
  }
 ],
 "metadata": {
  "kernelspec": {
   "display_name": "Python 3",
   "language": "python",
   "name": "python3"
  },
  "language_info": {
   "codemirror_mode": {
    "name": "ipython",
    "version": 3
   },
   "file_extension": ".py",
   "mimetype": "text/x-python",
   "name": "python",
   "nbconvert_exporter": "python",
   "pygments_lexer": "ipython3",
   "version": "3.7.4"
  }
 },
 "nbformat": 4,
 "nbformat_minor": 2
}
